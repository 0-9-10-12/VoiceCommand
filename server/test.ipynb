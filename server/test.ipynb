{
 "cells": [
  {
   "cell_type": "code",
   "execution_count": 4,
   "metadata": {},
   "outputs": [],
   "source": [
    "from fastapi import FastAPI, File, UploadFile, HTTPException\n",
    "import requests\n",
    "import tempfile\n",
    "import os\n",
    "import uuid\n",
    "import shutil\n",
    "# from google.cloud import speech\n",
    "from dotenv import load_dotenv\n",
    "from module import transcribe_audio, generate_unreal_code, JSONparser\n",
    "from langchain_core.prompts import PromptTemplate\n",
    "from langchain_google_genai import ChatGoogleGenerativeAI\n",
    "from langchain_core.output_parsers import PydanticOutputParser\n",
    "\n",
    "app = FastAPI()\n",
    "load_dotenv()\n",
    "GEMINI_API_KEY = os.getenv(\"GEMINI_API_KEY\")\n",
    "llm =llm = ChatGoogleGenerativeAI(model='gemini-1.5-pro')"
   ]
  },
  {
   "cell_type": "code",
   "execution_count": 7,
   "metadata": {},
   "outputs": [
    {
     "data": {
      "text/plain": [
       "'대한민국의 수도는 서울입니다.'"
      ]
     },
     "execution_count": 7,
     "metadata": {},
     "output_type": "execute_result"
    }
   ],
   "source": [
    "llm.invoke(\"대한민국의 수도는?\").content"
   ]
  },
  {
   "cell_type": "code",
   "execution_count": 23,
   "metadata": {},
   "outputs": [],
   "source": [
    "prompt = PromptTemplate.from_template(\n",
    "    \"출력은 항상 아래에 제시해주는 출력의 JSON형태로 출력해주세요.\\n\"\n",
    "    \"아래에 제시되는 명령어로부터 의미를 파악하여 아래의 출력의 형태에 맞게 채워주세요 \\n\"\n",
    "    \"도로롱 또는 도로롱과 비슷한 단어는 Lamball로 처리해주세요 \\n\"\n",
    "    \"펭키 또는 펭키와와 비슷한 단어는 Pengullet로 처리해주세요 \\n\"\n",
    "    \"'빨리', '어서'와 같이 긴급함을 요하는 단어가 포함되면 forced=True로 해주세요. 없으면 False로 처리해주세요. \\n\"\n",
    "    \"명령어: {command}\\n\"\n",
    "    \"출력:{format}\"\n",
    "    )\n",
    "parser = PydanticOutputParser(pydantic_object = JSONparser)\n",
    "prompt = prompt.partial(format=parser.get_format_instructions())\n",
    "chain = prompt | llm | parser"
   ]
  },
  {
   "cell_type": "code",
   "execution_count": 25,
   "metadata": {},
   "outputs": [
    {
     "data": {
      "text/plain": [
       "JSONparser(actor='Pengullet', work='Lumbering', target='Tree', forced=False)"
      ]
     },
     "execution_count": 25,
     "metadata": {},
     "output_type": "execute_result"
    }
   ],
   "source": [
    "chain.invoke(\"펭키야 나무 캐와\")"
   ]
  },
  {
   "cell_type": "code",
   "execution_count": null,
   "metadata": {},
   "outputs": [],
   "source": []
  }
 ],
 "metadata": {
  "kernelspec": {
   "display_name": "voice_env",
   "language": "python",
   "name": "python3"
  },
  "language_info": {
   "codemirror_mode": {
    "name": "ipython",
    "version": 3
   },
   "file_extension": ".py",
   "mimetype": "text/x-python",
   "name": "python",
   "nbconvert_exporter": "python",
   "pygments_lexer": "ipython3",
   "version": "3.13.0"
  }
 },
 "nbformat": 4,
 "nbformat_minor": 2
}
